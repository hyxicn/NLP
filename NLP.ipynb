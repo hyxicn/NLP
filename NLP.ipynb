{
 "cells": [
  {
   "cell_type": "markdown",
   "id": "f1a3aeae",
   "metadata": {},
   "source": [
    "### Udemy_NLP_Introduction\n",
    "\n",
    "#### Source\n",
    "\n",
    "* [Natural Language Processing (NLP) in Python with 8 Projects](https://www.udemy.com/course/complete-natural-language-processing-nlp-with-spacy-nltk/)\n",
    "\n",
    "* [Udemy付费课程-Python-NLP](https://www.bilibili.com/video/BV1hF411j7Sp/?spm_id_from=333.337.search-card.all.click&vd_source=1cfcdc8a5a9cef574db386621fdbcb1b)"
   ]
  },
  {
   "cell_type": "markdown",
   "id": "fc7b485b",
   "metadata": {},
   "source": [
    "#### Outline\n",
    "\n",
    "* NLP Basics\n",
    "    * Tokenization Basics\n",
    "    * Stemming & Lemmatization\n",
    "    * Stop Words\n",
    "    * Vocabulary and Matching\n",
    "    * Parts of Speech Tagging\n",
    "    * Named Entity Recognition\n",
    "    * Sentence Segmentation"
   ]
  }
 ],
 "metadata": {
  "kernelspec": {
   "display_name": "Python 3 (ipykernel)",
   "language": "python",
   "name": "python3"
  },
  "language_info": {
   "codemirror_mode": {
    "name": "ipython",
    "version": 3
   },
   "file_extension": ".py",
   "mimetype": "text/x-python",
   "name": "python",
   "nbconvert_exporter": "python",
   "pygments_lexer": "ipython3",
   "version": "3.9.10"
  }
 },
 "nbformat": 4,
 "nbformat_minor": 5
}
